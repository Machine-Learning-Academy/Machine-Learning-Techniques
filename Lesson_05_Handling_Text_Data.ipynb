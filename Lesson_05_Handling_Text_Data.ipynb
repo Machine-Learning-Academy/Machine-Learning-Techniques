{
  "nbformat": 4,
  "nbformat_minor": 0,
  "metadata": {
    "colab": {
      "provenance": []
    },
    "kernelspec": {
      "name": "python3",
      "display_name": "Python 3"
    },
    "language_info": {
      "name": "python"
    }
  },
  "cells": [
    {
      "cell_type": "markdown",
      "source": [
        "**Lesson 5: Handling Text Data**"
      ],
      "metadata": {
        "id": "-vc8I7Ow85Y5"
      }
    }
  ]
}
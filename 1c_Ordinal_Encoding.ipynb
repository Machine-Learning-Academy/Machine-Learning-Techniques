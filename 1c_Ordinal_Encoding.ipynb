{
  "nbformat": 4,
  "nbformat_minor": 0,
  "metadata": {
    "colab": {
      "provenance": []
    },
    "kernelspec": {
      "name": "python3",
      "display_name": "Python 3"
    },
    "language_info": {
      "name": "python"
    }
  },
  "cells": [
    {
      "cell_type": "code",
      "execution_count": 1,
      "metadata": {
        "id": "sI2XVhSuR0GM"
      },
      "outputs": [],
      "source": [
        "import numpy as np\n",
        "import pandas as pd"
      ]
    },
    {
      "cell_type": "code",
      "source": [
        "dataset = pd.read_csv(\"footballer_data.csv\")"
      ],
      "metadata": {
        "id": "0uAOuQs3W_B3"
      },
      "execution_count": 2,
      "outputs": []
    },
    {
      "cell_type": "code",
      "source": [
        "dataset.info()"
      ],
      "metadata": {
        "colab": {
          "base_uri": "https://localhost:8080/"
        },
        "id": "9_M03aaDY8yt",
        "outputId": "02971284-da10-44ef-9cdf-e187bd6361de"
      },
      "execution_count": 3,
      "outputs": [
        {
          "output_type": "stream",
          "name": "stdout",
          "text": [
            "<class 'pandas.core.frame.DataFrame'>\n",
            "RangeIndex: 10 entries, 0 to 9\n",
            "Data columns (total 7 columns):\n",
            " #   Column        Non-Null Count  Dtype \n",
            "---  ------        --------------  ----- \n",
            " 0   Name          10 non-null     object\n",
            " 1   Born          10 non-null     int64 \n",
            " 2   Country       10 non-null     object\n",
            " 3   Club Apps     10 non-null     int64 \n",
            " 4   Club Goals    10 non-null     int64 \n",
            " 5   Inter. Caps   10 non-null     int64 \n",
            " 6   Inter. Goals  10 non-null     int64 \n",
            "dtypes: int64(5), object(2)\n",
            "memory usage: 688.0+ bytes\n"
          ]
        }
      ]
    },
    {
      "cell_type": "code",
      "source": [
        "ordinal_encoding = {'Brazil':1, 'Argentina':2, 'Germany':3, 'England':4, 'France':5, 'Netherlands':6, 'Portugal':7, 'Hungary':8, 'Scotland':9, 'Northern Ireland':10}\n",
        "dataset['Country'] = dataset['Country'].replace(ordinal_encoding)"
      ],
      "metadata": {
        "id": "oiLsNreHZNN-"
      },
      "execution_count": 4,
      "outputs": []
    },
    {
      "cell_type": "code",
      "source": [
        "dataset.info()"
      ],
      "metadata": {
        "colab": {
          "base_uri": "https://localhost:8080/"
        },
        "id": "zvfgQ4Dzbm59",
        "outputId": "c0a16da6-f199-41a3-9941-b75f075c8b1e"
      },
      "execution_count": 5,
      "outputs": [
        {
          "output_type": "stream",
          "name": "stdout",
          "text": [
            "<class 'pandas.core.frame.DataFrame'>\n",
            "RangeIndex: 10 entries, 0 to 9\n",
            "Data columns (total 7 columns):\n",
            " #   Column        Non-Null Count  Dtype \n",
            "---  ------        --------------  ----- \n",
            " 0   Name          10 non-null     object\n",
            " 1   Born          10 non-null     int64 \n",
            " 2   Country       10 non-null     int64 \n",
            " 3   Club Apps     10 non-null     int64 \n",
            " 4   Club Goals    10 non-null     int64 \n",
            " 5   Inter. Caps   10 non-null     int64 \n",
            " 6   Inter. Goals  10 non-null     int64 \n",
            "dtypes: int64(6), object(1)\n",
            "memory usage: 688.0+ bytes\n"
          ]
        }
      ]
    },
    {
      "cell_type": "code",
      "source": [
        "dataset.head(10)"
      ],
      "metadata": {
        "colab": {
          "base_uri": "https://localhost:8080/",
          "height": 359
        },
        "id": "1z2faxPVdz27",
        "outputId": "3db6f428-982f-4fcb-f9ea-bb4ac1ccfef7"
      },
      "execution_count": 6,
      "outputs": [
        {
          "output_type": "execute_result",
          "data": {
            "text/plain": [
              "                 Name  Born  Country  Club Apps  Club Goals  Inter. Caps  \\\n",
              "0         Gerd Muller  1945        3        555         487           62   \n",
              "1             Eusebio  1942        7        436         424           64   \n",
              "2        Johan Cruyff  1947        6        518         294           48   \n",
              "3         George Best  1946       10        574         204           37   \n",
              "4      Bobby Charlton  1937        4        652         211          106   \n",
              "5                Pele  1940        1        647         606           92   \n",
              "6       Ferenc Puskas  1927        8        530         514           89   \n",
              "7      Kenny Dalglish  1951        9        559         229          102   \n",
              "8  Alfredo Di Stefano  1926        2        521         376           37   \n",
              "9      Michel Platini  1955        5        432         224           72   \n",
              "\n",
              "   Inter. Goals  \n",
              "0            68  \n",
              "1            41  \n",
              "2            33  \n",
              "3             9  \n",
              "4            49  \n",
              "5            77  \n",
              "6            84  \n",
              "7            30  \n",
              "8            29  \n",
              "9            41  "
            ],
            "text/html": [
              "\n",
              "  <div id=\"df-763b173f-0bbe-4dad-be8c-2a3b185d3ada\">\n",
              "    <div class=\"colab-df-container\">\n",
              "      <div>\n",
              "<style scoped>\n",
              "    .dataframe tbody tr th:only-of-type {\n",
              "        vertical-align: middle;\n",
              "    }\n",
              "\n",
              "    .dataframe tbody tr th {\n",
              "        vertical-align: top;\n",
              "    }\n",
              "\n",
              "    .dataframe thead th {\n",
              "        text-align: right;\n",
              "    }\n",
              "</style>\n",
              "<table border=\"1\" class=\"dataframe\">\n",
              "  <thead>\n",
              "    <tr style=\"text-align: right;\">\n",
              "      <th></th>\n",
              "      <th>Name</th>\n",
              "      <th>Born</th>\n",
              "      <th>Country</th>\n",
              "      <th>Club Apps</th>\n",
              "      <th>Club Goals</th>\n",
              "      <th>Inter. Caps</th>\n",
              "      <th>Inter. Goals</th>\n",
              "    </tr>\n",
              "  </thead>\n",
              "  <tbody>\n",
              "    <tr>\n",
              "      <th>0</th>\n",
              "      <td>Gerd Muller</td>\n",
              "      <td>1945</td>\n",
              "      <td>3</td>\n",
              "      <td>555</td>\n",
              "      <td>487</td>\n",
              "      <td>62</td>\n",
              "      <td>68</td>\n",
              "    </tr>\n",
              "    <tr>\n",
              "      <th>1</th>\n",
              "      <td>Eusebio</td>\n",
              "      <td>1942</td>\n",
              "      <td>7</td>\n",
              "      <td>436</td>\n",
              "      <td>424</td>\n",
              "      <td>64</td>\n",
              "      <td>41</td>\n",
              "    </tr>\n",
              "    <tr>\n",
              "      <th>2</th>\n",
              "      <td>Johan Cruyff</td>\n",
              "      <td>1947</td>\n",
              "      <td>6</td>\n",
              "      <td>518</td>\n",
              "      <td>294</td>\n",
              "      <td>48</td>\n",
              "      <td>33</td>\n",
              "    </tr>\n",
              "    <tr>\n",
              "      <th>3</th>\n",
              "      <td>George Best</td>\n",
              "      <td>1946</td>\n",
              "      <td>10</td>\n",
              "      <td>574</td>\n",
              "      <td>204</td>\n",
              "      <td>37</td>\n",
              "      <td>9</td>\n",
              "    </tr>\n",
              "    <tr>\n",
              "      <th>4</th>\n",
              "      <td>Bobby Charlton</td>\n",
              "      <td>1937</td>\n",
              "      <td>4</td>\n",
              "      <td>652</td>\n",
              "      <td>211</td>\n",
              "      <td>106</td>\n",
              "      <td>49</td>\n",
              "    </tr>\n",
              "    <tr>\n",
              "      <th>5</th>\n",
              "      <td>Pele</td>\n",
              "      <td>1940</td>\n",
              "      <td>1</td>\n",
              "      <td>647</td>\n",
              "      <td>606</td>\n",
              "      <td>92</td>\n",
              "      <td>77</td>\n",
              "    </tr>\n",
              "    <tr>\n",
              "      <th>6</th>\n",
              "      <td>Ferenc Puskas</td>\n",
              "      <td>1927</td>\n",
              "      <td>8</td>\n",
              "      <td>530</td>\n",
              "      <td>514</td>\n",
              "      <td>89</td>\n",
              "      <td>84</td>\n",
              "    </tr>\n",
              "    <tr>\n",
              "      <th>7</th>\n",
              "      <td>Kenny Dalglish</td>\n",
              "      <td>1951</td>\n",
              "      <td>9</td>\n",
              "      <td>559</td>\n",
              "      <td>229</td>\n",
              "      <td>102</td>\n",
              "      <td>30</td>\n",
              "    </tr>\n",
              "    <tr>\n",
              "      <th>8</th>\n",
              "      <td>Alfredo Di Stefano</td>\n",
              "      <td>1926</td>\n",
              "      <td>2</td>\n",
              "      <td>521</td>\n",
              "      <td>376</td>\n",
              "      <td>37</td>\n",
              "      <td>29</td>\n",
              "    </tr>\n",
              "    <tr>\n",
              "      <th>9</th>\n",
              "      <td>Michel Platini</td>\n",
              "      <td>1955</td>\n",
              "      <td>5</td>\n",
              "      <td>432</td>\n",
              "      <td>224</td>\n",
              "      <td>72</td>\n",
              "      <td>41</td>\n",
              "    </tr>\n",
              "  </tbody>\n",
              "</table>\n",
              "</div>\n",
              "      <button class=\"colab-df-convert\" onclick=\"convertToInteractive('df-763b173f-0bbe-4dad-be8c-2a3b185d3ada')\"\n",
              "              title=\"Convert this dataframe to an interactive table.\"\n",
              "              style=\"display:none;\">\n",
              "        \n",
              "  <svg xmlns=\"http://www.w3.org/2000/svg\" height=\"24px\"viewBox=\"0 0 24 24\"\n",
              "       width=\"24px\">\n",
              "    <path d=\"M0 0h24v24H0V0z\" fill=\"none\"/>\n",
              "    <path d=\"M18.56 5.44l.94 2.06.94-2.06 2.06-.94-2.06-.94-.94-2.06-.94 2.06-2.06.94zm-11 1L8.5 8.5l.94-2.06 2.06-.94-2.06-.94L8.5 2.5l-.94 2.06-2.06.94zm10 10l.94 2.06.94-2.06 2.06-.94-2.06-.94-.94-2.06-.94 2.06-2.06.94z\"/><path d=\"M17.41 7.96l-1.37-1.37c-.4-.4-.92-.59-1.43-.59-.52 0-1.04.2-1.43.59L10.3 9.45l-7.72 7.72c-.78.78-.78 2.05 0 2.83L4 21.41c.39.39.9.59 1.41.59.51 0 1.02-.2 1.41-.59l7.78-7.78 2.81-2.81c.8-.78.8-2.07 0-2.86zM5.41 20L4 18.59l7.72-7.72 1.47 1.35L5.41 20z\"/>\n",
              "  </svg>\n",
              "      </button>\n",
              "      \n",
              "  <style>\n",
              "    .colab-df-container {\n",
              "      display:flex;\n",
              "      flex-wrap:wrap;\n",
              "      gap: 12px;\n",
              "    }\n",
              "\n",
              "    .colab-df-convert {\n",
              "      background-color: #E8F0FE;\n",
              "      border: none;\n",
              "      border-radius: 50%;\n",
              "      cursor: pointer;\n",
              "      display: none;\n",
              "      fill: #1967D2;\n",
              "      height: 32px;\n",
              "      padding: 0 0 0 0;\n",
              "      width: 32px;\n",
              "    }\n",
              "\n",
              "    .colab-df-convert:hover {\n",
              "      background-color: #E2EBFA;\n",
              "      box-shadow: 0px 1px 2px rgba(60, 64, 67, 0.3), 0px 1px 3px 1px rgba(60, 64, 67, 0.15);\n",
              "      fill: #174EA6;\n",
              "    }\n",
              "\n",
              "    [theme=dark] .colab-df-convert {\n",
              "      background-color: #3B4455;\n",
              "      fill: #D2E3FC;\n",
              "    }\n",
              "\n",
              "    [theme=dark] .colab-df-convert:hover {\n",
              "      background-color: #434B5C;\n",
              "      box-shadow: 0px 1px 3px 1px rgba(0, 0, 0, 0.15);\n",
              "      filter: drop-shadow(0px 1px 2px rgba(0, 0, 0, 0.3));\n",
              "      fill: #FFFFFF;\n",
              "    }\n",
              "  </style>\n",
              "\n",
              "      <script>\n",
              "        const buttonEl =\n",
              "          document.querySelector('#df-763b173f-0bbe-4dad-be8c-2a3b185d3ada button.colab-df-convert');\n",
              "        buttonEl.style.display =\n",
              "          google.colab.kernel.accessAllowed ? 'block' : 'none';\n",
              "\n",
              "        async function convertToInteractive(key) {\n",
              "          const element = document.querySelector('#df-763b173f-0bbe-4dad-be8c-2a3b185d3ada');\n",
              "          const dataTable =\n",
              "            await google.colab.kernel.invokeFunction('convertToInteractive',\n",
              "                                                     [key], {});\n",
              "          if (!dataTable) return;\n",
              "\n",
              "          const docLinkHtml = 'Like what you see? Visit the ' +\n",
              "            '<a target=\"_blank\" href=https://colab.research.google.com/notebooks/data_table.ipynb>data table notebook</a>'\n",
              "            + ' to learn more about interactive tables.';\n",
              "          element.innerHTML = '';\n",
              "          dataTable['output_type'] = 'display_data';\n",
              "          await google.colab.output.renderOutput(dataTable, element);\n",
              "          const docLink = document.createElement('div');\n",
              "          docLink.innerHTML = docLinkHtml;\n",
              "          element.appendChild(docLink);\n",
              "        }\n",
              "      </script>\n",
              "    </div>\n",
              "  </div>\n",
              "  "
            ]
          },
          "metadata": {},
          "execution_count": 6
        }
      ]
    }
  ]
}